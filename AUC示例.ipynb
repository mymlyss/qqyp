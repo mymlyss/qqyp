{
 "cells": [
  {
   "cell_type": "code",
   "execution_count": 162,
   "metadata": {},
   "outputs": [],
   "source": [
    "import pandas as pd\n",
    "import matplotlib.pyplot as plt"
   ]
  },
  {
   "cell_type": "markdown",
   "metadata": {},
   "source": [
    "##### 样本的标签值和预测概率"
   ]
  },
  {
   "cell_type": "code",
   "execution_count": 163,
   "metadata": {},
   "outputs": [
    {
     "data": {
      "text/plain": [
       "19"
      ]
     },
     "execution_count": 163,
     "metadata": {},
     "output_type": "execute_result"
    }
   ],
   "source": [
    "data = {'label':[0,   0,   0,   0,   0,   0,   0,   0,   0,   1,    1,    1,    1,    1,    1,    1,    1,    1,    1],\n",
    "        'proba':[0.1, 0.2, 0.2, 0.3, 0.3, 0.4, 0.5, 0.7, 0.9, 0.15, 0.45, 0.55, 0.75, 0.75, 0.85, 0.95, 0.75, 0.85, 0.95]}\n",
    "df = pd.DataFrame(data)\n",
    "len(df)"
   ]
  },
  {
   "cell_type": "markdown",
   "metadata": {},
   "source": [
    "##### 画出概率分布图"
   ]
  },
  {
   "cell_type": "code",
   "execution_count": 176,
   "metadata": {},
   "outputs": [
    {
     "data": {
      "text/plain": [
       "Text(0.5, 1.0, '预测概率分布')"
      ]
     },
     "execution_count": 176,
     "metadata": {},
     "output_type": "execute_result"
    },
    {
     "data": {
      "image/png": "[encoded data removed]",
      "text/plain": [
       "<Figure size 432x288 with 1 Axes>"
      ]
     },
     "metadata": {
      "needs_background": "light"
     },
     "output_type": "display_data"
    }
   ],
   "source": [
    "group = df.groupby(['label', 'proba']) # 按标签值和概率值分组\n",
    "la0 = group.size()[0] # 负类样本概率值统计数\n",
    "la1 = group.size()[1] # 正类样本概率值统计数\n",
    "\n",
    "x0 = [] # 负类样本概率值\n",
    "y0 = [] # 负类样本概率值对应的样本数量\n",
    "for index, val in la0.items():\n",
    "    x0.append(index)\n",
    "    y0.append(val)\n",
    "\n",
    "x1 = []\n",
    "y1 = []\n",
    "for index, val in la1.items():\n",
    "    x1.append(index)\n",
    "    y1.append(val)\n",
    "    \n",
    "plt.rcParams['font.sans-serif']=['SimHei'] # 设置字体为黑体\n",
    "plt.rcParams['axes.unicode_minus']=False \n",
    "p1 = plt.bar(x0, height=y0, width=0.005) # 细线表示负类样本分布\n",
    "p2 = plt.bar(x1, height=y1, width=0.02) # 组线表示正类样本分布\n",
    "plt.xlabel('预测概率值', size=18)\n",
    "plt.ylabel('样本数量', size=18)\n",
    "plt.title('预测概率分布', size=18)"
   ]
  },
  {
   "cell_type": "markdown",
   "metadata": {},
   "source": [
    "##### 计算FPR和TPR对，并画出ROC曲线"
   ]
  },
  {
   "cell_type": "code",
   "execution_count": 179,
   "metadata": {},
   "outputs": [
    {
     "data": {
      "text/plain": [
       "Text(0.5, 1.0, 'ROC Curve')"
      ]
     },
     "execution_count": 179,
     "metadata": {},
     "output_type": "execute_result"
    },
    {
     "data": {
      "image/png": "[encoded data removed]",
      "text/plain": [
       "<Figure size 432x288 with 1 Axes>"
      ]
     },
     "metadata": {
      "needs_background": "light"
     },
     "output_type": "display_data"
    }
   ],
   "source": [
    "from sklearn import metrics\n",
    "\n",
    "fpr, tpr, thresholds = metrics.roc_curve(df['label'].values, df['proba'].values, pos_label=1)\n",
    "\n",
    "plt.plot(fpr, tpr, marker='o')\n",
    "plt.xlabel('False Positive Rate', size=18)\n",
    "plt.ylabel('True Positive Rate', size=18)\n",
    "plt.title('ROC Curve', size=18)"
   ]
  },
  {
   "cell_type": "code",
   "execution_count": 165,
   "metadata": {},
   "outputs": [
    {
     "name": "stdout",
     "output_type": "stream",
     "text": [
      "auc = 0.8\n"
     ]
    }
   ],
   "source": [
    "print(\"auc = \" + str(metrics.auc(fpr, tpr))) # metrics.auc函数是以梯形法则求出ROC曲线与横坐标所夹面积"
   ]
  },
  {
   "cell_type": "markdown",
   "metadata": {},
   "source": [
    "##### 验算FPR和TPR值"
   ]
  },
  {
   "cell_type": "code",
   "execution_count": 155,
   "metadata": {},
   "outputs": [
    {
     "data": {
      "text/html": [
       "<div>\n",
       "<style scoped>\n",
       "    .dataframe tbody tr th:only-of-type {\n",
       "        vertical-align: middle;\n",
       "    }\n",
       "\n",
       "    .dataframe tbody tr th {\n",
       "        vertical-align: top;\n",
       "    }\n",
       "\n",
       "    .dataframe thead th {\n",
       "        text-align: right;\n",
       "    }\n",
       "</style>\n",
       "<table border=\"1\" class=\"dataframe\">\n",
       "  <thead>\n",
       "    <tr style=\"text-align: right;\">\n",
       "      <th></th>\n",
       "      <th>label</th>\n",
       "      <th>proba</th>\n",
       "    </tr>\n",
       "  </thead>\n",
       "  <tbody>\n",
       "    <tr>\n",
       "      <th>18</th>\n",
       "      <td>1</td>\n",
       "      <td>0.95</td>\n",
       "    </tr>\n",
       "    <tr>\n",
       "      <th>15</th>\n",
       "      <td>1</td>\n",
       "      <td>0.95</td>\n",
       "    </tr>\n",
       "    <tr>\n",
       "      <th>8</th>\n",
       "      <td>0</td>\n",
       "      <td>0.90</td>\n",
       "    </tr>\n",
       "    <tr>\n",
       "      <th>17</th>\n",
       "      <td>1</td>\n",
       "      <td>0.85</td>\n",
       "    </tr>\n",
       "    <tr>\n",
       "      <th>14</th>\n",
       "      <td>1</td>\n",
       "      <td>0.85</td>\n",
       "    </tr>\n",
       "    <tr>\n",
       "      <th>12</th>\n",
       "      <td>1</td>\n",
       "      <td>0.75</td>\n",
       "    </tr>\n",
       "    <tr>\n",
       "      <th>13</th>\n",
       "      <td>1</td>\n",
       "      <td>0.75</td>\n",
       "    </tr>\n",
       "    <tr>\n",
       "      <th>16</th>\n",
       "      <td>1</td>\n",
       "      <td>0.75</td>\n",
       "    </tr>\n",
       "    <tr>\n",
       "      <th>7</th>\n",
       "      <td>0</td>\n",
       "      <td>0.70</td>\n",
       "    </tr>\n",
       "    <tr>\n",
       "      <th>11</th>\n",
       "      <td>1</td>\n",
       "      <td>0.55</td>\n",
       "    </tr>\n",
       "    <tr>\n",
       "      <th>6</th>\n",
       "      <td>0</td>\n",
       "      <td>0.50</td>\n",
       "    </tr>\n",
       "    <tr>\n",
       "      <th>10</th>\n",
       "      <td>1</td>\n",
       "      <td>0.45</td>\n",
       "    </tr>\n",
       "    <tr>\n",
       "      <th>5</th>\n",
       "      <td>0</td>\n",
       "      <td>0.40</td>\n",
       "    </tr>\n",
       "    <tr>\n",
       "      <th>3</th>\n",
       "      <td>0</td>\n",
       "      <td>0.30</td>\n",
       "    </tr>\n",
       "    <tr>\n",
       "      <th>4</th>\n",
       "      <td>0</td>\n",
       "      <td>0.30</td>\n",
       "    </tr>\n",
       "    <tr>\n",
       "      <th>1</th>\n",
       "      <td>0</td>\n",
       "      <td>0.20</td>\n",
       "    </tr>\n",
       "    <tr>\n",
       "      <th>2</th>\n",
       "      <td>0</td>\n",
       "      <td>0.20</td>\n",
       "    </tr>\n",
       "    <tr>\n",
       "      <th>9</th>\n",
       "      <td>1</td>\n",
       "      <td>0.15</td>\n",
       "    </tr>\n",
       "    <tr>\n",
       "      <th>0</th>\n",
       "      <td>0</td>\n",
       "      <td>0.10</td>\n",
       "    </tr>\n",
       "  </tbody>\n",
       "</table>\n",
       "</div>"
      ],
      "text/plain": [
       "    label  proba\n",
       "18      1   0.95\n",
       "15      1   0.95\n",
       "8       0   0.90\n",
       "17      1   0.85\n",
       "14      1   0.85\n",
       "12      1   0.75\n",
       "13      1   0.75\n",
       "16      1   0.75\n",
       "7       0   0.70\n",
       "11      1   0.55\n",
       "6       0   0.50\n",
       "10      1   0.45\n",
       "5       0   0.40\n",
       "3       0   0.30\n",
       "4       0   0.30\n",
       "1       0   0.20\n",
       "2       0   0.20\n",
       "9       1   0.15\n",
       "0       0   0.10"
      ]
     },
     "execution_count": 155,
     "metadata": {},
     "output_type": "execute_result"
    }
   ],
   "source": [
    "df.sort_values('proba', inplace=True, ascending=False)\n",
    "df"
   ]
  },
  {
   "cell_type": "code",
   "execution_count": 156,
   "metadata": {},
   "outputs": [
    {
     "name": "stdout",
     "output_type": "stream",
     "text": [
      "fpr = 0.0, tpr = 0.2\n"
     ]
    }
   ],
   "source": [
    "# 取阈值0.95，从上表中可知TP为2，FP为0\n",
    "fp = 0\n",
    "tp = 2\n",
    "fpr = fp / la0.sum()\n",
    "tpr = tp / la1.sum()\n",
    "print('fpr = '+str(fpr)+', tpr = '+str(tpr))"
   ]
  },
  {
   "cell_type": "code",
   "execution_count": 157,
   "metadata": {},
   "outputs": [
    {
     "name": "stdout",
     "output_type": "stream",
     "text": [
      "fpr = 0.1111111111111111, tpr = 0.2\n"
     ]
    }
   ],
   "source": [
    "# 取阈值0.9，从上表中可知TP为2，FP为1\n",
    "fp = 1\n",
    "tp = 2\n",
    "fpr = fp / la0.sum()\n",
    "tpr = tp / la1.sum()\n",
    "print('fpr = '+str(fpr)+', tpr = '+str(tpr))"
   ]
  },
  {
   "cell_type": "code",
   "execution_count": 158,
   "metadata": {},
   "outputs": [
    {
     "name": "stdout",
     "output_type": "stream",
     "text": [
      "fpr = 0.1111111111111111, tpr = 0.4\n"
     ]
    }
   ],
   "source": [
    "# 取阈值0.85，从上表中可知TP为4，FP为1\n",
    "fp = 1\n",
    "tp = 4\n",
    "fpr = fp / la0.sum()\n",
    "tpr = tp / la1.sum()\n",
    "print('fpr = '+str(fpr)+', tpr = '+str(tpr))"
   ]
  },
  {
   "cell_type": "code",
   "execution_count": 159,
   "metadata": {},
   "outputs": [
    {
     "name": "stdout",
     "output_type": "stream",
     "text": [
      "fpr = 0.1111111111111111, tpr = 0.7\n"
     ]
    }
   ],
   "source": [
    "# 取阈值0.75，从上表中可知TP为7，FP为1\n",
    "fp = 1\n",
    "tp = 7\n",
    "fpr = fp / la0.sum()\n",
    "tpr = tp / la1.sum()\n",
    "print('fpr = '+str(fpr)+', tpr = '+str(tpr))"
   ]
  },
  {
   "cell_type": "code",
   "execution_count": 160,
   "metadata": {},
   "outputs": [
    {
     "name": "stdout",
     "output_type": "stream",
     "text": [
      "fpr = 0.2222222222222222, tpr = 0.7\n"
     ]
    }
   ],
   "source": [
    "# 取阈值0.7，从上表中可知TP为7，FP为2\n",
    "fp = 2\n",
    "tp = 7\n",
    "fpr = fp / la0.sum()\n",
    "tpr = tp / la1.sum()\n",
    "print('fpr = '+str(fpr)+', tpr = '+str(tpr))"
   ]
  },
  {
   "cell_type": "code",
   "execution_count": null,
   "metadata": {},
   "outputs": [],
   "source": []
  }
 ],
 "metadata": {
  "kernelspec": {
   "display_name": "Python 3",
   "language": "python",
   "name": "python3"
  },
  "language_info": {
   "codemirror_mode": {
    "name": "ipython",
    "version": 3
   },
   "file_extension": ".py",
   "mimetype": "text/x-python",
   "name": "python",
   "nbconvert_exporter": "python",
   "pygments_lexer": "ipython3",
   "version": "3.6.9"
  }
 },
 "nbformat": 4,
 "nbformat_minor": 2
}
